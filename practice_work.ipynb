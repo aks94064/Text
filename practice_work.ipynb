{
  "nbformat": 4,
  "nbformat_minor": 0,
  "metadata": {
    "colab": {
      "provenance": []
    },
    "kernelspec": {
      "name": "python3",
      "display_name": "Python 3"
    },
    "language_info": {
      "name": "python"
    }
  },
  "cells": [
    {
      "cell_type": "markdown",
      "source": [
        "# Functions\n",
        "\n",
        "1.What is the course name?\n",
        "  - Data science with Gen AI\n",
        "\n",
        "2.What is the duration?\n",
        "  - 6 Months\n",
        "\n",
        "\n"
      ],
      "metadata": {
        "id": "BBeqK8PTFwEo"
      }
    },
    {
      "cell_type": "markdown",
      "source": [],
      "metadata": {
        "id": "V0weG-EdID-R"
      }
    },
    {
      "cell_type": "code",
      "execution_count": null,
      "metadata": {
        "id": "kLJe_EOcE1wM"
      },
      "outputs": [],
      "source": []
    }
  ]
}